{
 "cells": [
  {
   "cell_type": "code",
   "execution_count": 1,
   "metadata": {},
   "outputs": [],
   "source": [
    "import subprocess, argparse, numpy as np\n",
    "from datetime import datetime, timedelta"
   ]
  },
  {
   "cell_type": "code",
   "execution_count": 2,
   "metadata": {},
   "outputs": [],
   "source": [
    "def get_file(path):\n",
    "    #opens and external file and makes it into a list\n",
    "    fopen = path\n",
    "    f=open(fopen, 'r+')\n",
    "    g=list(f)\n",
    "    g=map(lambda s: s.strip(), g)\n",
    "    return g\n",
    "\n",
    "def readlines(old_list,comment):\n",
    "    new_list = []\n",
    "    for line in old_list: \n",
    "        if not len(line)==0:\n",
    "            if line[0]!=comment: new_list.append(line)\n",
    "    return new_list\n",
    "\n",
    "def splitt(old_list):\n",
    "    #splits the list entries into sublists\n",
    "    new_list=[]\n",
    "    for i in old_list:\n",
    "        new_list+=[i.split()]\n",
    "    return new_list\n",
    "\n",
    "def unpack_ivs_format(sf,i):\n",
    "    return (sf[i][  1:  9],sf[i][ 10: 18],\n",
    "            sf[i][ 19: 23],sf[i][ 24: 29],\n",
    "            sf[i][ 30: 33],sf[i][ 34: 39],\n",
    "            sf[i][ 40: 42],sf[i][ 43:102],\n",
    "            sf[i][103:107],sf[i][108:112])\n",
    "\n",
    "\n",
    "def get_calendar_events(calendar, search, start, end):\n",
    "    result = subprocess.run(['gcalcli', '--nocache', \n",
    "                            '--details', 'description', '--details', \n",
    "                            'length', '--tsv', '--calendar', calendar, \n",
    "                            'search', search, start, end], stdout=subprocess.PIPE)\n",
    "    \n",
    "    output = result.stdout\n",
    "    events = [s.decode('utf-8') for s in output.splitlines()]\n",
    "    ret = []\n",
    "    for e in events:\n",
    "        temp_details = e.strip().split('\\t')\n",
    "        details = {\n",
    "            'start_date'  : temp_details[0],\n",
    "            'start_time'  : temp_details[1],\n",
    "            'end_date'    : temp_details[2],\n",
    "            'end_time'    : temp_details[3],\n",
    "            'description' : temp_details[4],\n",
    "        }\n",
    "        ret.append(details)\n",
    "    return ret\n",
    "\n",
    "def add_calendar_event(event, calendar, reminder_time):\n",
    "    start_dt = datetime.strptime('{} {}'.format(event['start_date'], event['start_time']), '%Y-%m-%d %H:%M')\n",
    "    end_dt = datetime.strptime('{} {}'.format(event['end_date'], event['end_time']), '%Y-%m-%d %H:%M')\n",
    "\n",
    "    duration = str(int((end_dt - start_dt).total_seconds()/60))\n",
    "\n",
    "    result = subprocess.run(['gcalcli', '--calendar', calendar, '--title', event['description'], '--description', event['description'], '--when', '{} {}'.format(event['start_date'], event['start_time']), '--where', 'UTAS', '--duration', duration, '--reminder', reminder_time, 'add'], stdout=subprocess.PIPE)\n"
   ]
  },
  {
   "cell_type": "code",
   "execution_count": 94,
   "metadata": {},
   "outputs": [],
   "source": [
    "sf = readlines(get_file('Spirals_schedule_summary_y2.txt'),comment='#')"
   ]
  },
  {
   "cell_type": "code",
   "execution_count": 95,
   "metadata": {},
   "outputs": [],
   "source": [
    "vals = unpack_ivs_format(sf,0); name,code,year,date,doy,start,dur,stations,sched,corr=vals"
   ]
  },
  {
   "cell_type": "code",
   "execution_count": 96,
   "metadata": {},
   "outputs": [
    {
     "data": {
      "text/plain": [
       "('SPIRALS ',\n",
       " 'S015B   ',\n",
       " '2021',\n",
       " 'JUN25',\n",
       " '176',\n",
       " '03:00',\n",
       " '12',\n",
       " '  CdHbKeWa                                                 ',\n",
       " 'UTAS',\n",
       " 'UTAS')"
      ]
     },
     "execution_count": 96,
     "metadata": {},
     "output_type": "execute_result"
    }
   ],
   "source": [
    "vals"
   ]
  },
  {
   "cell_type": "code",
   "execution_count": null,
   "metadata": {},
   "outputs": [],
   "source": [
    "get_calendar_events('Ceduna 30m','v576',)"
   ]
  },
  {
   "cell_type": "code",
   "execution_count": null,
   "metadata": {},
   "outputs": [],
   "source": []
  }
 ],
 "metadata": {
  "kernelspec": {
   "display_name": "Python [conda env:analysis3] *",
   "language": "python",
   "name": "conda-env-analysis3-py"
  },
  "language_info": {
   "codemirror_mode": {
    "name": "ipython",
    "version": 3
   },
   "file_extension": ".py",
   "mimetype": "text/x-python",
   "name": "python",
   "nbconvert_exporter": "python",
   "pygments_lexer": "ipython3",
   "version": "3.7.3"
  }
 },
 "nbformat": 4,
 "nbformat_minor": 4
}
